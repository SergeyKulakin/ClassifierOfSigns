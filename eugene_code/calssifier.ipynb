{
 "cells": [
  {
   "cell_type": "code",
   "execution_count": 5,
   "id": "e3d91d7a",
   "metadata": {
    "scrolled": true
   },
   "outputs": [
    {
     "name": "stdout",
     "output_type": "stream",
     "text": [
      "Requirement already satisfied: opencv-python in c:\\users\\kerosene\\appdata\\roaming\\python\\python38\\site-packages (4.5.3.56)\n",
      "Requirement already satisfied: numpy>=1.17.3 in c:\\users\\kerosene\\appdata\\roaming\\python\\python38\\site-packages (from opencv-python) (1.21.2)\n"
     ]
    }
   ],
   "source": [
    "!pip install opencv-python"
   ]
  },
  {
   "cell_type": "code",
   "execution_count": 47,
   "id": "7d971aef",
   "metadata": {},
   "outputs": [],
   "source": [
    "import cv2\n",
    "import matplotlib.pyplot as plt\n",
    "import matplotlib.image as mpimg\n",
    "import os\n",
    "import pandas as pd\n",
    "\n",
    "from tqdm.auto import tqdm\n",
    "\n",
    "import numpy as np\n",
    "import scipy.linalg as sla\n",
    "from PIL import Image\n",
    "from scipy import misc\n",
    "import scipy.sparse as sps\n",
    "import scipy.sparse.linalg as spla\n",
    "import timeit\n",
    "%matplotlib inline"
   ]
  },
  {
   "cell_type": "code",
   "execution_count": 77,
   "id": "01af46ad",
   "metadata": {},
   "outputs": [],
   "source": [
    "def prepare_photo_aug2(df, dir):\n",
    "    \"\"\"INPUT\n",
    "    df -> pandas DataFrame: empty df\n",
    "    dir -> str: abs path to dir with photo\n",
    "        \n",
    "        OTPUT -> pandas:DataFrame: full df\"\"\"\n",
    "        \n",
    "    #path = '/content/drive/MyDrive/НИС'+f'/{dir}'\n",
    "    path = f\"data/{dir}\"\n",
    "    photos = os.listdir(path)\n",
    "    print('Кол-во фотографий', len(photos))\n",
    "\n",
    "    for i, photo in enumerate(tqdm(photos)):\n",
    "        try:\n",
    "            photo_pth = path + '/' + photo\n",
    "            img = cv2.imread(photo_pth, cv2.IMREAD_GRAYSCALE) # это матрица из интенсивностей серого цвета\n",
    "            width = 224\n",
    "            height = 224\n",
    "            dim = (width, height)\n",
    "            # resize image\n",
    "            #resized = cv2.resize(img, dim, interpolation = cv2.INTER_LANCZOS4)\n",
    "            data0 = np.reshape(img, 50176)\n",
    "            data0 = pd.Series(data0)\n",
    "            df = df.append(data0, ignore_index=True)\n",
    "            \n",
    "            '''\n",
    "            center = (width/2, height/2)\n",
    "            \n",
    "            # добавим 90\n",
    "            m = cv2.getRotationMatrix2D(center, 90, 1.0)\n",
    "            rotated = cv2.warpAffine(img, m, dim)\n",
    "            \n",
    "            data = np.reshape(rotated, 50176)\n",
    "            data = pd.Series(data)\n",
    "            df = df.append(data, ignore_index=True)\n",
    "            \n",
    "            # добавим 180\n",
    "            m2 = cv2.getRotationMatrix2D(center, 180, 1.0)\n",
    "            rotated2 = cv2.warpAffine(img, m2, dim)\n",
    "            data2 = np.reshape(rotated2, 50176)\n",
    "            data2 = pd.Series(data2)\n",
    "            df = df.append(data2, ignore_index=True)\n",
    "            \n",
    "            # добавим 270\n",
    "            m3 = cv2.getRotationMatrix2D(center, 270, 1.0)\n",
    "            rotated3 = cv2.warpAffine(img, m3, dim)      \n",
    "            data3 = np.reshape(rotated3, 50176)\n",
    "            data3 = pd.Series(data3)\n",
    "            df = df.append(data3, ignore_index=True)\n",
    "                                                    '''\n",
    "        except:\n",
    "             print(f'ALARM error with {i, photo}')\n",
    "    return df"
   ]
  },
  {
   "cell_type": "code",
   "execution_count": 132,
   "id": "7c9fb223",
   "metadata": {},
   "outputs": [],
   "source": [
    "df_z = pd.DataFrame(columns=[i for i in range(50176)], dtype=float)"
   ]
  },
  {
   "cell_type": "code",
   "execution_count": 133,
   "id": "0471a33d",
   "metadata": {},
   "outputs": [],
   "source": [
    "p1 = '1'  #predupr\n",
    "p2 = '2'       #prior\n",
    "p3 = '3'      #zapret\n",
    "p4 = '4'   #predpis\n",
    "p5 = '5' #os_predpis\n",
    "p6 = '6'   #info\n",
    "p7 = '7'          #service\n",
    "p8 = '8'#tables"
   ]
  },
  {
   "cell_type": "code",
   "execution_count": 134,
   "id": "9938fe5c",
   "metadata": {},
   "outputs": [
    {
     "name": "stdout",
     "output_type": "stream",
     "text": [
      "Кол-во фотографий 84\n"
     ]
    },
    {
     "data": {
      "application/vnd.jupyter.widget-view+json": {
       "model_id": "33d5fb90ba154a80a342c25a381319ba",
       "version_major": 2,
       "version_minor": 0
      },
      "text/plain": [
       "  0%|          | 0/84 [00:00<?, ?it/s]"
      ]
     },
     "metadata": {},
     "output_type": "display_data"
    },
    {
     "name": "stdout",
     "output_type": "stream",
     "text": [
      "Кол-во фотографий 35\n"
     ]
    },
    {
     "data": {
      "application/vnd.jupyter.widget-view+json": {
       "model_id": "066f58ab72bb44128f325f601904ca6a",
       "version_major": 2,
       "version_minor": 0
      },
      "text/plain": [
       "  0%|          | 0/35 [00:00<?, ?it/s]"
      ]
     },
     "metadata": {},
     "output_type": "display_data"
    },
    {
     "name": "stdout",
     "output_type": "stream",
     "text": [
      "Кол-во фотографий 124\n"
     ]
    },
    {
     "data": {
      "application/vnd.jupyter.widget-view+json": {
       "model_id": "7acf062cb2d9411880744915852e8210",
       "version_major": 2,
       "version_minor": 0
      },
      "text/plain": [
       "  0%|          | 0/124 [00:00<?, ?it/s]"
      ]
     },
     "metadata": {},
     "output_type": "display_data"
    },
    {
     "name": "stdout",
     "output_type": "stream",
     "text": [
      "Кол-во фотографий 37\n"
     ]
    },
    {
     "data": {
      "application/vnd.jupyter.widget-view+json": {
       "model_id": "56b01b677c024a858d04041c08450850",
       "version_major": 2,
       "version_minor": 0
      },
      "text/plain": [
       "  0%|          | 0/37 [00:00<?, ?it/s]"
      ]
     },
     "metadata": {},
     "output_type": "display_data"
    },
    {
     "name": "stdout",
     "output_type": "stream",
     "text": [
      "Кол-во фотографий 152\n"
     ]
    },
    {
     "data": {
      "application/vnd.jupyter.widget-view+json": {
       "model_id": "d08ebf7e08f64420ab26576e4f31b89e",
       "version_major": 2,
       "version_minor": 0
      },
      "text/plain": [
       "  0%|          | 0/152 [00:00<?, ?it/s]"
      ]
     },
     "metadata": {},
     "output_type": "display_data"
    },
    {
     "name": "stdout",
     "output_type": "stream",
     "text": [
      "Кол-во фотографий 81\n"
     ]
    },
    {
     "data": {
      "application/vnd.jupyter.widget-view+json": {
       "model_id": "62b10634c8354d5684a293dcab83cc7a",
       "version_major": 2,
       "version_minor": 0
      },
      "text/plain": [
       "  0%|          | 0/81 [00:00<?, ?it/s]"
      ]
     },
     "metadata": {},
     "output_type": "display_data"
    },
    {
     "name": "stdout",
     "output_type": "stream",
     "text": [
      "Кол-во фотографий 28\n"
     ]
    },
    {
     "data": {
      "application/vnd.jupyter.widget-view+json": {
       "model_id": "9d8c80fffc2049629441dc08fcb208d6",
       "version_major": 2,
       "version_minor": 0
      },
      "text/plain": [
       "  0%|          | 0/28 [00:00<?, ?it/s]"
      ]
     },
     "metadata": {},
     "output_type": "display_data"
    },
    {
     "name": "stdout",
     "output_type": "stream",
     "text": [
      "Кол-во фотографий 148\n"
     ]
    },
    {
     "data": {
      "application/vnd.jupyter.widget-view+json": {
       "model_id": "ccbe5355525b45d2be1ed2a276007c71",
       "version_major": 2,
       "version_minor": 0
      },
      "text/plain": [
       "  0%|          | 0/148 [00:00<?, ?it/s]"
      ]
     },
     "metadata": {},
     "output_type": "display_data"
    }
   ],
   "source": [
    "df1 = prepare_photo_aug2(df_z, p1)\n",
    "df2 = prepare_photo_aug2(df_z, p2)\n",
    "df3 = prepare_photo_aug2(df_z, p3)\n",
    "df4 = prepare_photo_aug2(df_z, p4)\n",
    "df5 = prepare_photo_aug2(df_z, p5)\n",
    "df6 = prepare_photo_aug2(df_z, p6)\n",
    "df7 = prepare_photo_aug2(df_z, p7)\n",
    "df8 = prepare_photo_aug2(df_z, p8)"
   ]
  },
  {
   "cell_type": "code",
   "execution_count": 135,
   "id": "28881700",
   "metadata": {},
   "outputs": [],
   "source": [
    "df1['target'] = 'predupr'\n",
    "df2['target'] = 'prior'\n",
    "df3['target'] = 'zapret'\n",
    "df4['target'] = 'predpis'\n",
    "df5['target'] = 'ospredpis'\n",
    "df6['target'] = 'info'\n",
    "df7['target'] = 'service'\n",
    "df8['target'] = 'tables'"
   ]
  },
  {
   "cell_type": "code",
   "execution_count": 136,
   "id": "7b7ef2e2",
   "metadata": {},
   "outputs": [],
   "source": [
    "df = pd.concat([df1, df2, df3, df4, df5, df6, df7, df8], axis=0, ignore_index=True)"
   ]
  },
  {
   "cell_type": "code",
   "execution_count": 137,
   "id": "a248f1e5",
   "metadata": {},
   "outputs": [],
   "source": [
    "from sklearn.preprocessing import LabelEncoder\n",
    "\n",
    "from sklearn.metrics import accuracy_score\n",
    "from sklearn.model_selection import train_test_split\n",
    "from sklearn.model_selection import cross_val_score\n",
    "from sklearn.metrics import plot_confusion_matrix"
   ]
  },
  {
   "cell_type": "code",
   "execution_count": 138,
   "id": "d8e1d825",
   "metadata": {},
   "outputs": [],
   "source": [
    "# Закодируем лейблы\n",
    "LE = LabelEncoder()\n",
    "df.target = LE.fit_transform(df.target)\n",
    "\n",
    "# Разделим выборку\n",
    "X_train, X_test, y_train, y_test = train_test_split(df.iloc[:, :-1], df.target, test_size=0.3, random_state=42)"
   ]
  },
  {
   "cell_type": "code",
   "execution_count": 148,
   "id": "49dfbb67",
   "metadata": {},
   "outputs": [],
   "source": [
    "import lightgbm\n",
    "import catboost\n",
    "import xgboost as xgb\n",
    "from sklearn.metrics import accuracy_score"
   ]
  },
  {
   "cell_type": "code",
   "execution_count": 144,
   "id": "6016340b",
   "metadata": {},
   "outputs": [
    {
     "ename": "KeyboardInterrupt",
     "evalue": "",
     "output_type": "error",
     "traceback": [
      "\u001b[1;31m---------------------------------------------------------------------------\u001b[0m",
      "\u001b[1;31mKeyboardInterrupt\u001b[0m                         Traceback (most recent call last)",
      "\u001b[1;32m<ipython-input-144-ba57111acd37>\u001b[0m in \u001b[0;36m<module>\u001b[1;34m\u001b[0m\n\u001b[0;32m      1\u001b[0m \u001b[0mcatb\u001b[0m \u001b[1;33m=\u001b[0m \u001b[0mcatboost\u001b[0m\u001b[1;33m.\u001b[0m\u001b[0mCatBoostClassifier\u001b[0m\u001b[1;33m(\u001b[0m\u001b[0miterations\u001b[0m\u001b[1;33m=\u001b[0m\u001b[1;36m150\u001b[0m\u001b[1;33m,\u001b[0m \u001b[0mverbose\u001b[0m\u001b[1;33m=\u001b[0m\u001b[1;32mTrue\u001b[0m\u001b[1;33m,\u001b[0m \u001b[0mmax_depth\u001b[0m\u001b[1;33m=\u001b[0m\u001b[1;36m10\u001b[0m\u001b[1;33m,\u001b[0m \u001b[0mlearning_rate\u001b[0m\u001b[1;33m=\u001b[0m\u001b[1;36m0.1\u001b[0m\u001b[1;33m)\u001b[0m\u001b[1;33m\u001b[0m\u001b[1;33m\u001b[0m\u001b[0m\n\u001b[0;32m      2\u001b[0m \u001b[1;33m\u001b[0m\u001b[0m\n\u001b[1;32m----> 3\u001b[1;33m \u001b[0mcatb\u001b[0m\u001b[1;33m.\u001b[0m\u001b[0mfit\u001b[0m\u001b[1;33m(\u001b[0m\u001b[0mX_train\u001b[0m\u001b[1;33m,\u001b[0m \u001b[0my_train\u001b[0m\u001b[1;33m)\u001b[0m\u001b[1;33m\u001b[0m\u001b[1;33m\u001b[0m\u001b[0m\n\u001b[0m\u001b[0;32m      4\u001b[0m \u001b[0my_pred_cat\u001b[0m \u001b[1;33m=\u001b[0m \u001b[0mcatb\u001b[0m\u001b[1;33m.\u001b[0m\u001b[0mpredict\u001b[0m\u001b[1;33m(\u001b[0m\u001b[0mX_test\u001b[0m\u001b[1;33m)\u001b[0m\u001b[1;33m\u001b[0m\u001b[1;33m\u001b[0m\u001b[0m\n",
      "\u001b[1;32m~\\anaconda3\\lib\\site-packages\\catboost\\core.py\u001b[0m in \u001b[0;36mfit\u001b[1;34m(self, X, y, cat_features, text_features, sample_weight, baseline, use_best_model, eval_set, verbose, logging_level, plot, column_description, verbose_eval, metric_period, silent, early_stopping_rounds, save_snapshot, snapshot_file, snapshot_interval, init_model)\u001b[0m\n\u001b[0;32m   3933\u001b[0m             \u001b[0mself\u001b[0m\u001b[1;33m.\u001b[0m\u001b[0m_check_is_classification_objective\u001b[0m\u001b[1;33m(\u001b[0m\u001b[0mparams\u001b[0m\u001b[1;33m[\u001b[0m\u001b[1;34m'loss_function'\u001b[0m\u001b[1;33m]\u001b[0m\u001b[1;33m)\u001b[0m\u001b[1;33m\u001b[0m\u001b[1;33m\u001b[0m\u001b[0m\n\u001b[0;32m   3934\u001b[0m \u001b[1;33m\u001b[0m\u001b[0m\n\u001b[1;32m-> 3935\u001b[1;33m         self._fit(X, y, cat_features, text_features, None, sample_weight, None, None, None, None, baseline, use_best_model,\n\u001b[0m\u001b[0;32m   3936\u001b[0m                   \u001b[0meval_set\u001b[0m\u001b[1;33m,\u001b[0m \u001b[0mverbose\u001b[0m\u001b[1;33m,\u001b[0m \u001b[0mlogging_level\u001b[0m\u001b[1;33m,\u001b[0m \u001b[0mplot\u001b[0m\u001b[1;33m,\u001b[0m \u001b[0mcolumn_description\u001b[0m\u001b[1;33m,\u001b[0m \u001b[0mverbose_eval\u001b[0m\u001b[1;33m,\u001b[0m \u001b[0mmetric_period\u001b[0m\u001b[1;33m,\u001b[0m\u001b[1;33m\u001b[0m\u001b[1;33m\u001b[0m\u001b[0m\n\u001b[0;32m   3937\u001b[0m                   silent, early_stopping_rounds, save_snapshot, snapshot_file, snapshot_interval, init_model)\n",
      "\u001b[1;32m~\\anaconda3\\lib\\site-packages\\catboost\\core.py\u001b[0m in \u001b[0;36m_fit\u001b[1;34m(self, X, y, cat_features, text_features, pairs, sample_weight, group_id, group_weight, subgroup_id, pairs_weight, baseline, use_best_model, eval_set, verbose, logging_level, plot, column_description, verbose_eval, metric_period, silent, early_stopping_rounds, save_snapshot, snapshot_file, snapshot_interval, init_model)\u001b[0m\n\u001b[0;32m   1725\u001b[0m \u001b[1;33m\u001b[0m\u001b[0m\n\u001b[0;32m   1726\u001b[0m         \u001b[1;32mwith\u001b[0m \u001b[0mlog_fixup\u001b[0m\u001b[1;33m(\u001b[0m\u001b[1;33m)\u001b[0m\u001b[1;33m,\u001b[0m \u001b[0mplot_wrapper\u001b[0m\u001b[1;33m(\u001b[0m\u001b[0mplot\u001b[0m\u001b[1;33m,\u001b[0m \u001b[1;33m[\u001b[0m\u001b[0m_get_train_dir\u001b[0m\u001b[1;33m(\u001b[0m\u001b[0mself\u001b[0m\u001b[1;33m.\u001b[0m\u001b[0mget_params\u001b[0m\u001b[1;33m(\u001b[0m\u001b[1;33m)\u001b[0m\u001b[1;33m)\u001b[0m\u001b[1;33m]\u001b[0m\u001b[1;33m)\u001b[0m\u001b[1;33m:\u001b[0m\u001b[1;33m\u001b[0m\u001b[1;33m\u001b[0m\u001b[0m\n\u001b[1;32m-> 1727\u001b[1;33m             self._train(\n\u001b[0m\u001b[0;32m   1728\u001b[0m                 \u001b[0mtrain_pool\u001b[0m\u001b[1;33m,\u001b[0m\u001b[1;33m\u001b[0m\u001b[1;33m\u001b[0m\u001b[0m\n\u001b[0;32m   1729\u001b[0m                 \u001b[0mtrain_params\u001b[0m\u001b[1;33m[\u001b[0m\u001b[1;34m\"eval_sets\"\u001b[0m\u001b[1;33m]\u001b[0m\u001b[1;33m,\u001b[0m\u001b[1;33m\u001b[0m\u001b[1;33m\u001b[0m\u001b[0m\n",
      "\u001b[1;32m~\\anaconda3\\lib\\site-packages\\catboost\\core.py\u001b[0m in \u001b[0;36m_train\u001b[1;34m(self, train_pool, test_pool, params, allow_clear_pool, init_model)\u001b[0m\n\u001b[0;32m   1253\u001b[0m \u001b[1;33m\u001b[0m\u001b[0m\n\u001b[0;32m   1254\u001b[0m     \u001b[1;32mdef\u001b[0m \u001b[0m_train\u001b[0m\u001b[1;33m(\u001b[0m\u001b[0mself\u001b[0m\u001b[1;33m,\u001b[0m \u001b[0mtrain_pool\u001b[0m\u001b[1;33m,\u001b[0m \u001b[0mtest_pool\u001b[0m\u001b[1;33m,\u001b[0m \u001b[0mparams\u001b[0m\u001b[1;33m,\u001b[0m \u001b[0mallow_clear_pool\u001b[0m\u001b[1;33m,\u001b[0m \u001b[0minit_model\u001b[0m\u001b[1;33m)\u001b[0m\u001b[1;33m:\u001b[0m\u001b[1;33m\u001b[0m\u001b[1;33m\u001b[0m\u001b[0m\n\u001b[1;32m-> 1255\u001b[1;33m         \u001b[0mself\u001b[0m\u001b[1;33m.\u001b[0m\u001b[0m_object\u001b[0m\u001b[1;33m.\u001b[0m\u001b[0m_train\u001b[0m\u001b[1;33m(\u001b[0m\u001b[0mtrain_pool\u001b[0m\u001b[1;33m,\u001b[0m \u001b[0mtest_pool\u001b[0m\u001b[1;33m,\u001b[0m \u001b[0mparams\u001b[0m\u001b[1;33m,\u001b[0m \u001b[0mallow_clear_pool\u001b[0m\u001b[1;33m,\u001b[0m \u001b[0minit_model\u001b[0m\u001b[1;33m.\u001b[0m\u001b[0m_object\u001b[0m \u001b[1;32mif\u001b[0m \u001b[0minit_model\u001b[0m \u001b[1;32melse\u001b[0m \u001b[1;32mNone\u001b[0m\u001b[1;33m)\u001b[0m\u001b[1;33m\u001b[0m\u001b[1;33m\u001b[0m\u001b[0m\n\u001b[0m\u001b[0;32m   1256\u001b[0m         \u001b[0mself\u001b[0m\u001b[1;33m.\u001b[0m\u001b[0m_set_trained_model_attributes\u001b[0m\u001b[1;33m(\u001b[0m\u001b[1;33m)\u001b[0m\u001b[1;33m\u001b[0m\u001b[1;33m\u001b[0m\u001b[0m\n\u001b[0;32m   1257\u001b[0m \u001b[1;33m\u001b[0m\u001b[0m\n",
      "\u001b[1;32m_catboost.pyx\u001b[0m in \u001b[0;36m_catboost._CatBoost._train\u001b[1;34m()\u001b[0m\n",
      "\u001b[1;32m_catboost.pyx\u001b[0m in \u001b[0;36m_catboost._CatBoost._train\u001b[1;34m()\u001b[0m\n",
      "\u001b[1;31mKeyboardInterrupt\u001b[0m: "
     ]
    }
   ],
   "source": [
    "catb = catboost.CatBoostClassifier(iterations=150, verbose=True, max_depth=10, learning_rate=0.1)\n",
    "\n",
    "catb.fit(X_train, y_train)\n",
    "y_pred_cat = catb.predict(X_test)"
   ]
  },
  {
   "cell_type": "code",
   "execution_count": 160,
   "id": "b393c324",
   "metadata": {
    "scrolled": true
   },
   "outputs": [
    {
     "name": "stdout",
     "output_type": "stream",
     "text": [
      "[1]\tvalid_0's multi_logloss: 1.89256\n",
      "[2]\tvalid_0's multi_logloss: 1.83836\n",
      "[3]\tvalid_0's multi_logloss: 1.78816\n",
      "[4]\tvalid_0's multi_logloss: 1.74287\n",
      "[5]\tvalid_0's multi_logloss: 1.70202\n",
      "[6]\tvalid_0's multi_logloss: 1.66377\n",
      "[7]\tvalid_0's multi_logloss: 1.62767\n",
      "[8]\tvalid_0's multi_logloss: 1.59371\n",
      "[9]\tvalid_0's multi_logloss: 1.56334\n",
      "[10]\tvalid_0's multi_logloss: 1.53264\n",
      "[11]\tvalid_0's multi_logloss: 1.50416\n",
      "[12]\tvalid_0's multi_logloss: 1.47793\n",
      "[13]\tvalid_0's multi_logloss: 1.45159\n",
      "[14]\tvalid_0's multi_logloss: 1.42838\n",
      "[15]\tvalid_0's multi_logloss: 1.40653\n",
      "[16]\tvalid_0's multi_logloss: 1.3854\n",
      "[17]\tvalid_0's multi_logloss: 1.36589\n",
      "[18]\tvalid_0's multi_logloss: 1.34587\n",
      "[19]\tvalid_0's multi_logloss: 1.32793\n",
      "[20]\tvalid_0's multi_logloss: 1.31026\n",
      "[21]\tvalid_0's multi_logloss: 1.29372\n",
      "[22]\tvalid_0's multi_logloss: 1.27752\n",
      "[23]\tvalid_0's multi_logloss: 1.26199\n",
      "[24]\tvalid_0's multi_logloss: 1.24578\n",
      "[25]\tvalid_0's multi_logloss: 1.23104\n",
      "[26]\tvalid_0's multi_logloss: 1.21633\n",
      "[27]\tvalid_0's multi_logloss: 1.20243\n",
      "[28]\tvalid_0's multi_logloss: 1.18809\n",
      "[29]\tvalid_0's multi_logloss: 1.17475\n",
      "[30]\tvalid_0's multi_logloss: 1.16184\n",
      "[31]\tvalid_0's multi_logloss: 1.1497\n",
      "[32]\tvalid_0's multi_logloss: 1.13875\n",
      "[33]\tvalid_0's multi_logloss: 1.12733\n",
      "[34]\tvalid_0's multi_logloss: 1.11702\n",
      "[35]\tvalid_0's multi_logloss: 1.10705\n",
      "[36]\tvalid_0's multi_logloss: 1.09796\n",
      "[37]\tvalid_0's multi_logloss: 1.08759\n",
      "[38]\tvalid_0's multi_logloss: 1.07804\n",
      "[39]\tvalid_0's multi_logloss: 1.06874\n",
      "[40]\tvalid_0's multi_logloss: 1.0588\n",
      "[41]\tvalid_0's multi_logloss: 1.04975\n",
      "[42]\tvalid_0's multi_logloss: 1.04122\n",
      "[43]\tvalid_0's multi_logloss: 1.03194\n",
      "[44]\tvalid_0's multi_logloss: 1.02272\n",
      "[45]\tvalid_0's multi_logloss: 1.01455\n",
      "[46]\tvalid_0's multi_logloss: 1.00687\n",
      "[47]\tvalid_0's multi_logloss: 0.998605\n",
      "[48]\tvalid_0's multi_logloss: 0.989492\n",
      "[49]\tvalid_0's multi_logloss: 0.981696\n",
      "[50]\tvalid_0's multi_logloss: 0.973436\n",
      "[51]\tvalid_0's multi_logloss: 0.966719\n",
      "[52]\tvalid_0's multi_logloss: 0.959929\n",
      "[53]\tvalid_0's multi_logloss: 0.952634\n",
      "[54]\tvalid_0's multi_logloss: 0.945046\n",
      "[55]\tvalid_0's multi_logloss: 0.93682\n",
      "[56]\tvalid_0's multi_logloss: 0.929957\n",
      "[57]\tvalid_0's multi_logloss: 0.92342\n",
      "[58]\tvalid_0's multi_logloss: 0.916389\n",
      "[59]\tvalid_0's multi_logloss: 0.910796\n",
      "[60]\tvalid_0's multi_logloss: 0.905929\n",
      "[61]\tvalid_0's multi_logloss: 0.89987\n",
      "[62]\tvalid_0's multi_logloss: 0.893417\n",
      "[63]\tvalid_0's multi_logloss: 0.888082\n",
      "[64]\tvalid_0's multi_logloss: 0.88214\n",
      "[65]\tvalid_0's multi_logloss: 0.875776\n",
      "[66]\tvalid_0's multi_logloss: 0.871175\n",
      "[67]\tvalid_0's multi_logloss: 0.865322\n",
      "[68]\tvalid_0's multi_logloss: 0.85946\n",
      "[69]\tvalid_0's multi_logloss: 0.853785\n",
      "[70]\tvalid_0's multi_logloss: 0.849126\n",
      "[71]\tvalid_0's multi_logloss: 0.843863\n",
      "[72]\tvalid_0's multi_logloss: 0.839166\n",
      "[73]\tvalid_0's multi_logloss: 0.833797\n",
      "[74]\tvalid_0's multi_logloss: 0.829255\n",
      "[75]\tvalid_0's multi_logloss: 0.82515\n",
      "[76]\tvalid_0's multi_logloss: 0.821161\n",
      "[77]\tvalid_0's multi_logloss: 0.817233\n",
      "[78]\tvalid_0's multi_logloss: 0.813153\n",
      "[79]\tvalid_0's multi_logloss: 0.80963\n",
      "[80]\tvalid_0's multi_logloss: 0.805767\n",
      "[81]\tvalid_0's multi_logloss: 0.802194\n",
      "[82]\tvalid_0's multi_logloss: 0.798992\n",
      "[83]\tvalid_0's multi_logloss: 0.794484\n",
      "[84]\tvalid_0's multi_logloss: 0.791682\n",
      "[85]\tvalid_0's multi_logloss: 0.788402\n",
      "[86]\tvalid_0's multi_logloss: 0.784975\n",
      "[87]\tvalid_0's multi_logloss: 0.782541\n",
      "[88]\tvalid_0's multi_logloss: 0.779628\n",
      "[89]\tvalid_0's multi_logloss: 0.775418\n",
      "[90]\tvalid_0's multi_logloss: 0.771957\n",
      "[91]\tvalid_0's multi_logloss: 0.768253\n",
      "[92]\tvalid_0's multi_logloss: 0.765324\n",
      "[93]\tvalid_0's multi_logloss: 0.76196\n",
      "[94]\tvalid_0's multi_logloss: 0.758561\n",
      "[95]\tvalid_0's multi_logloss: 0.755305\n",
      "[96]\tvalid_0's multi_logloss: 0.752087\n",
      "[97]\tvalid_0's multi_logloss: 0.749732\n",
      "[98]\tvalid_0's multi_logloss: 0.74695\n",
      "[99]\tvalid_0's multi_logloss: 0.744917\n",
      "[100]\tvalid_0's multi_logloss: 0.74127\n"
     ]
    }
   ],
   "source": [
    "train_dataset = lightgbm.Dataset(X_train, y_train)\n",
    "test_dataset = lightgbm.Dataset(X_test, y_test)\n",
    "#setting up the parameters\n",
    "params={}\n",
    "params['learning_rate']=0.03\n",
    "params['boosting_type']='gbdt' #GradientBoostingDecisionTree\n",
    "params['objective']='multiclass' #Multi-class target feature\n",
    "params['metric']='multi_logloss' #metric for multi-class\n",
    "params['max_depth']=10\n",
    "params['num_class']=8 #no.of unique values in the target class not inclusive of the end value\n",
    "\n",
    "\n",
    "lgbm = lightgbm.train(params, train_dataset, valid_sets=(test_dataset,))\n",
    "# lgbm = lightgbm.train({\"objective\": \"multiclass\"},\n",
    "#                     train_set=train_dataset, valid_sets=(test_dataset,),\n",
    "#                     verbose_eval = -1)\n",
    "y_pred_lgbm = lgbm.predict(X_test)\n",
    "predictions = []\n",
    "\n",
    "for x in y_pred_lgbm:\n",
    "    predictions.append(np.argmax(x))"
   ]
  },
  {
   "cell_type": "code",
   "execution_count": 167,
   "id": "57043689",
   "metadata": {},
   "outputs": [
    {
     "data": {
      "text/plain": [
       "0.7971014492753623"
      ]
     },
     "execution_count": 167,
     "metadata": {},
     "output_type": "execute_result"
    }
   ],
   "source": [
    "accuracy_score(y_test, predictions)"
   ]
  },
  {
   "cell_type": "code",
   "execution_count": 152,
   "id": "221c7130",
   "metadata": {},
   "outputs": [
    {
     "name": "stderr",
     "output_type": "stream",
     "text": [
      "C:\\Users\\Kerosene\\anaconda3\\lib\\site-packages\\xgboost\\sklearn.py:1224: UserWarning: The use of label encoder in XGBClassifier is deprecated and will be removed in a future release. To remove this warning, do the following: 1) Pass option use_label_encoder=False when constructing XGBClassifier object; and 2) Encode your labels (y) as integers starting with 0, i.e. 0, 1, 2, ..., [num_class - 1].\n",
      "  warnings.warn(label_encoder_deprecation_msg, UserWarning)\n"
     ]
    },
    {
     "name": "stdout",
     "output_type": "stream",
     "text": [
      "[22:45:33] WARNING: C:/Users/Administrator/workspace/xgboost-win64_release_1.5.1/src/learner.cc:1115: Starting in XGBoost 1.3.0, the default evaluation metric used with the objective 'multi:softprob' was changed from 'merror' to 'mlogloss'. Explicitly set eval_metric if you'd like to restore the old behavior.\n"
     ]
    }
   ],
   "source": [
    "xgb_clf = xgb.XGBClassifier(learning_rate=0.1, n_estimators=15, max_depth=4)\n",
    "xgb_clf.fit(X_train, y_train)\n",
    "y_pred_xgb = xgb_clf.predict(X_test)"
   ]
  },
  {
   "cell_type": "code",
   "execution_count": 153,
   "id": "fcf80e57",
   "metadata": {},
   "outputs": [
    {
     "data": {
      "text/plain": [
       "0.7536231884057971"
      ]
     },
     "execution_count": 153,
     "metadata": {},
     "output_type": "execute_result"
    }
   ],
   "source": [
    "accuracy_score(y_test, y_pred_xgb)"
   ]
  }
 ],
 "metadata": {
  "kernelspec": {
   "display_name": "Python 3",
   "language": "python",
   "name": "python3"
  },
  "language_info": {
   "codemirror_mode": {
    "name": "ipython",
    "version": 3
   },
   "file_extension": ".py",
   "mimetype": "text/x-python",
   "name": "python",
   "nbconvert_exporter": "python",
   "pygments_lexer": "ipython3",
   "version": "3.8.8"
  }
 },
 "nbformat": 4,
 "nbformat_minor": 5
}
